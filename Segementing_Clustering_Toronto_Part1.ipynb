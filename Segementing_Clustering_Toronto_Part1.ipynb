{
    "nbformat_minor": 1, 
    "cells": [
        {
            "source": "# Segmenting and Clustering Neighborhoods in Toronto_Assignment 1_Part1", 
            "cell_type": "markdown", 
            "metadata": {}
        }, 
        {
            "source": "### The following code in this Notebook scrapes data from a source and transfroms the data into dataframe ", 
            "cell_type": "markdown", 
            "metadata": {}
        }, 
        {
            "execution_count": 27, 
            "cell_type": "code", 
            "metadata": {}, 
            "outputs": [], 
            "source": "import requests\nimport csv\nfrom bs4 import BeautifulSoup    # importing Required modules/libraries"
        }, 
        {
            "source": "#### _Extracting the HTML Content From the the URL and accessing the table content data_", 
            "cell_type": "markdown", 
            "metadata": {}
        }, 
        {
            "execution_count": 28, 
            "cell_type": "code", 
            "metadata": {}, 
            "outputs": [
                {
                    "output_type": "stream", 
                    "name": "stdout", 
                    "text": "the csv file is written\n"
                }
            ], 
            "source": "# Code to extract Columns and rows of the table content data\n\nsource_path = \"https://en.wikipedia.org/wiki/List_of_postal_codes_of_Canada:_M\" # sourcepath\nr = requests.get(source_path) #get the HTML contect\n\n# creates a Parse tree from Raw HTML Content\nsoup = BeautifulSoup(r.content, 'lxml') # Pass the raw HTML contect and HTML Parser(in this case we are using 'lxml') to BeautifulSoup Object\n\n#print(soup.prettify())\n\ntable = soup.find('table',{'class':'wikitable sortable'}) # finding the table content from the soup Oject\n\n#Extracting table headers(enclosed in th) and rows(enclosed with in<td> the data\nheaders1 = [header.text for header in table.find_all('th')] \n#print(headers1)\n\nrows_data = [] \n\nfor row in table.find_all('tr'):\n   rows_data.append([val.text.encode('utf8') for val in row.find_all('td')]) #val.text.encode('utf8')\n\n#The data is written to CSV File \nwith open('toronto_postal_info.csv', 'w') as f:\n     writer = csv.writer(f)\n     writer.writerow(headers1)\n     writer.writerows(row for row in rows_data if row)\n     print(\"the csv file is written\")\n\n"
        }, 
        {
            "source": "#### _Get the data from the CSV load to pandas DataFrame_", 
            "cell_type": "markdown", 
            "metadata": {}
        }, 
        {
            "execution_count": 29, 
            "cell_type": "code", 
            "metadata": {}, 
            "outputs": [
                {
                    "output_type": "stream", 
                    "name": "stdout", 
                    "text": "/home/dsxuser/work\n['toronto_postal_info.csv']\n"
                }
            ], 
            "source": "import os\nprint(os.getcwd())\n\n# Display all of the files found in your current working directory\nprint(os.listdir(os.getcwd()))"
        }, 
        {
            "execution_count": 30, 
            "cell_type": "code", 
            "metadata": {}, 
            "outputs": [
                {
                    "execution_count": 30, 
                    "metadata": {}, 
                    "data": {
                        "text/html": "<div>\n<style scoped>\n    .dataframe tbody tr th:only-of-type {\n        vertical-align: middle;\n    }\n\n    .dataframe tbody tr th {\n        vertical-align: top;\n    }\n\n    .dataframe thead th {\n        text-align: right;\n    }\n</style>\n<table border=\"1\" class=\"dataframe\">\n  <thead>\n    <tr style=\"text-align: right;\">\n      <th></th>\n      <th>Postcode</th>\n      <th>Borough</th>\n      <th>Neighbourhood</th>\n    </tr>\n  </thead>\n  <tbody>\n    <tr>\n      <th>0</th>\n      <td>b'M1A'</td>\n      <td>b'Not assigned'</td>\n      <td>b'Not assigned\\n'</td>\n    </tr>\n    <tr>\n      <th>1</th>\n      <td>b'M2A'</td>\n      <td>b'Not assigned'</td>\n      <td>b'Not assigned\\n'</td>\n    </tr>\n    <tr>\n      <th>2</th>\n      <td>b'M3A'</td>\n      <td>b'North York'</td>\n      <td>b'Parkwoods\\n'</td>\n    </tr>\n    <tr>\n      <th>3</th>\n      <td>b'M4A'</td>\n      <td>b'North York'</td>\n      <td>b'Victoria Village\\n'</td>\n    </tr>\n    <tr>\n      <th>4</th>\n      <td>b'M5A'</td>\n      <td>b'Downtown Toronto'</td>\n      <td>b'Harbourfront\\n'</td>\n    </tr>\n  </tbody>\n</table>\n</div>", 
                        "text/plain": "  Postcode              Borough        Neighbourhood\\n\n0   b'M1A'      b'Not assigned'      b'Not assigned\\n'\n1   b'M2A'      b'Not assigned'      b'Not assigned\\n'\n2   b'M3A'        b'North York'         b'Parkwoods\\n'\n3   b'M4A'        b'North York'  b'Victoria Village\\n'\n4   b'M5A'  b'Downtown Toronto'      b'Harbourfront\\n'"
                    }, 
                    "output_type": "execute_result"
                }
            ], 
            "source": "import pandas as pd\n\ndf_data=pd.read_csv(\"toronto_postal_info.csv\")\n\n\ndf_data.head(5)"
        }, 
        {
            "source": "#### _Cleaning the Data_\n1. Removing unwanted Characters\n2. Ignore cells with a borough that is Not assigned.(drop the rows with borough not assigned)\n3. If a row has a borough but a Not assigned neighborhood, then the neighborhood's value will be the same as the borough. \n", 
            "cell_type": "markdown", 
            "metadata": {}
        }, 
        {
            "execution_count": 33, 
            "cell_type": "code", 
            "metadata": {}, 
            "outputs": [
                {
                    "execution_count": 33, 
                    "metadata": {}, 
                    "data": {
                        "text/html": "<div>\n<style scoped>\n    .dataframe tbody tr th:only-of-type {\n        vertical-align: middle;\n    }\n\n    .dataframe tbody tr th {\n        vertical-align: top;\n    }\n\n    .dataframe thead th {\n        text-align: right;\n    }\n</style>\n<table border=\"1\" class=\"dataframe\">\n  <thead>\n    <tr style=\"text-align: right;\">\n      <th></th>\n      <th>Postcode</th>\n      <th>Borough</th>\n      <th>Neighbourhood</th>\n    </tr>\n  </thead>\n  <tbody>\n    <tr>\n      <th>2</th>\n      <td>M3A</td>\n      <td>North York</td>\n      <td>Parkwoods</td>\n    </tr>\n    <tr>\n      <th>3</th>\n      <td>M4A</td>\n      <td>North York</td>\n      <td>Victoria Village</td>\n    </tr>\n    <tr>\n      <th>4</th>\n      <td>M5A</td>\n      <td>Downtown Toronto</td>\n      <td>Harbourfront</td>\n    </tr>\n    <tr>\n      <th>5</th>\n      <td>M5A</td>\n      <td>Downtown Toronto</td>\n      <td>Regent Park</td>\n    </tr>\n    <tr>\n      <th>6</th>\n      <td>M6A</td>\n      <td>North York</td>\n      <td>Lawrence Heights</td>\n    </tr>\n  </tbody>\n</table>\n</div>", 
                        "text/plain": "  Postcode           Borough     Neighbourhood\n2      M3A        North York         Parkwoods\n3      M4A        North York  Victoria Village\n4      M5A  Downtown Toronto      Harbourfront\n5      M5A  Downtown Toronto       Regent Park\n6      M6A        North York  Lawrence Heights"
                    }, 
                    "output_type": "execute_result"
                }
            ], 
            "source": "# 1\n#Stripping characters('',b,\\n) from the DataFrame\ndf_data = df_data.apply(lambda x: x.str.strip(r\"'b\\\\n\\\"\")) # removing \\n,'b and double quotes from the data\ndf_data.columns = df_data.columns.str.strip(r\"'b\\\\n\\\"\")\ndf_data.columns=df_data.columns.str.lstrip(r\"'b\\\\n\\\"\")\ndf_data.columns = df_data.columns.str.strip(\"\\n\")# removes\\n from column name's # can also use rename f['col$'].name = 'col'\n#print (df_data)\n\ndf_data.head(5)\n#df_data.shape #(289,3)"
        }, 
        {
            "execution_count": 38, 
            "cell_type": "code", 
            "metadata": {}, 
            "outputs": [
                {
                    "execution_count": 38, 
                    "metadata": {}, 
                    "data": {
                        "text/plain": "(212, 3)"
                    }, 
                    "output_type": "execute_result"
                }
            ], 
            "source": "# 2\n\n# finding the data where colums Borough and Neighbourhood ='Not assigned' and drop them form the data set\n\n# these rows will not be processed\n\nindexNames = df_data[ (df_data['Neighbourhood'].str.contains('Not assigned') ) & (df_data['Borough'] .str.contains('Not assigned')) ].index\ndf_data.drop(indexNames , inplace=True)\n\ndf_data.shape"
        }, 
        {
            "execution_count": 36, 
            "cell_type": "code", 
            "metadata": {}, 
            "outputs": [
                {
                    "execution_count": 36, 
                    "metadata": {}, 
                    "data": {
                        "text/html": "<div>\n<style scoped>\n    .dataframe tbody tr th:only-of-type {\n        vertical-align: middle;\n    }\n\n    .dataframe tbody tr th {\n        vertical-align: top;\n    }\n\n    .dataframe thead th {\n        text-align: right;\n    }\n</style>\n<table border=\"1\" class=\"dataframe\">\n  <thead>\n    <tr style=\"text-align: right;\">\n      <th></th>\n      <th>Postcode</th>\n      <th>Borough</th>\n      <th>Neighbourhood</th>\n    </tr>\n  </thead>\n  <tbody>\n    <tr>\n      <th>8</th>\n      <td>M7A</td>\n      <td>Queen's Park</td>\n      <td>Not assigned</td>\n    </tr>\n  </tbody>\n</table>\n</div>", 
                        "text/plain": "  Postcode       Borough Neighbourhood\n8      M7A  Queen's Park  Not assigned"
                    }, 
                    "output_type": "execute_result"
                }
            ], 
            "source": "# 3 \n# If a row has a borough but a Not assigned neighborhood, then the neighborhood's value will be the same as the borough. \n# Checking for data where Neighbourhood = 'Not assigned'\ndf_data[(df_data['Neighbourhood'].str.contains('Not assigned'))]"
        }, 
        {
            "execution_count": 40, 
            "cell_type": "code", 
            "metadata": {}, 
            "outputs": [
                {
                    "execution_count": 40, 
                    "metadata": {}, 
                    "data": {
                        "text/html": "<div>\n<style scoped>\n    .dataframe tbody tr th:only-of-type {\n        vertical-align: middle;\n    }\n\n    .dataframe tbody tr th {\n        vertical-align: top;\n    }\n\n    .dataframe thead th {\n        text-align: right;\n    }\n</style>\n<table border=\"1\" class=\"dataframe\">\n  <thead>\n    <tr style=\"text-align: right;\">\n      <th></th>\n      <th>Postcode</th>\n      <th>Borough</th>\n      <th>Neighbourhood</th>\n    </tr>\n  </thead>\n  <tbody>\n    <tr>\n      <th>2</th>\n      <td>M3A</td>\n      <td>North York</td>\n      <td>Parkwoods</td>\n    </tr>\n    <tr>\n      <th>3</th>\n      <td>M4A</td>\n      <td>North York</td>\n      <td>Victoria Village</td>\n    </tr>\n    <tr>\n      <th>4</th>\n      <td>M5A</td>\n      <td>Downtown Toronto</td>\n      <td>Harbourfront</td>\n    </tr>\n    <tr>\n      <th>5</th>\n      <td>M5A</td>\n      <td>Downtown Toronto</td>\n      <td>Regent Park</td>\n    </tr>\n    <tr>\n      <th>6</th>\n      <td>M6A</td>\n      <td>North York</td>\n      <td>Lawrence Heights</td>\n    </tr>\n    <tr>\n      <th>7</th>\n      <td>M6A</td>\n      <td>North York</td>\n      <td>Lawrence Manor</td>\n    </tr>\n    <tr>\n      <th>8</th>\n      <td>M7A</td>\n      <td>Queen's Park</td>\n      <td>Queen's Park</td>\n    </tr>\n    <tr>\n      <th>10</th>\n      <td>M9A</td>\n      <td>Etobicoke</td>\n      <td>Islington Avenue</td>\n    </tr>\n    <tr>\n      <th>11</th>\n      <td>M1B</td>\n      <td>Scarborough</td>\n      <td>Rouge</td>\n    </tr>\n    <tr>\n      <th>12</th>\n      <td>M1B</td>\n      <td>Scarborough</td>\n      <td>Malver</td>\n    </tr>\n  </tbody>\n</table>\n</div>", 
                        "text/plain": "   Postcode           Borough     Neighbourhood\n2       M3A        North York         Parkwoods\n3       M4A        North York  Victoria Village\n4       M5A  Downtown Toronto      Harbourfront\n5       M5A  Downtown Toronto       Regent Park\n6       M6A        North York  Lawrence Heights\n7       M6A        North York    Lawrence Manor\n8       M7A      Queen's Park      Queen's Park\n10      M9A         Etobicoke  Islington Avenue\n11      M1B       Scarborough             Rouge\n12      M1B       Scarborough            Malver"
                    }, 
                    "output_type": "execute_result"
                }
            ], 
            "source": "# Copy Borough Value to Neighborhood where Neighborhood='Not assigned'\n\ndf_data.loc[df_data['Neighbourhood']=='Not assigned', ['Neighbourhood']] =df_data.loc[8,\"Borough\"]\n\ndf_data.head(10)"
        }, 
        {
            "source": "#### _Grouping  the data and combinig Neighbourhoods seperated with , that fall under same Postcode_", 
            "cell_type": "markdown", 
            "metadata": {}
        }, 
        {
            "execution_count": 42, 
            "cell_type": "code", 
            "metadata": {}, 
            "outputs": [
                {
                    "execution_count": 42, 
                    "metadata": {}, 
                    "data": {
                        "text/html": "<div>\n<style scoped>\n    .dataframe tbody tr th:only-of-type {\n        vertical-align: middle;\n    }\n\n    .dataframe tbody tr th {\n        vertical-align: top;\n    }\n\n    .dataframe thead th {\n        text-align: right;\n    }\n</style>\n<table border=\"1\" class=\"dataframe\">\n  <thead>\n    <tr style=\"text-align: right;\">\n      <th></th>\n      <th></th>\n      <th></th>\n    </tr>\n    <tr>\n      <th>Postcode</th>\n      <th>Borough</th>\n      <th>Neighbourhood</th>\n    </tr>\n  </thead>\n  <tbody>\n    <tr>\n      <th rowspan=\"2\" valign=\"top\">M1B</th>\n      <th rowspan=\"2\" valign=\"top\">Scarborough</th>\n      <th>Malver</th>\n    </tr>\n    <tr>\n      <th>Rouge</th>\n    </tr>\n    <tr>\n      <th rowspan=\"3\" valign=\"top\">M1C</th>\n      <th rowspan=\"3\" valign=\"top\">Scarborough</th>\n      <th>Highland Creek</th>\n    </tr>\n    <tr>\n      <th>Port Unio</th>\n    </tr>\n    <tr>\n      <th>Rouge Hill</th>\n    </tr>\n    <tr>\n      <th rowspan=\"3\" valign=\"top\">M1E</th>\n      <th rowspan=\"3\" valign=\"top\">Scarborough</th>\n      <th>Guildwood</th>\n    </tr>\n    <tr>\n      <th>Morningside</th>\n    </tr>\n    <tr>\n      <th>West Hill</th>\n    </tr>\n    <tr>\n      <th>M1G</th>\n      <th>Scarborough</th>\n      <th>Wobur</th>\n    </tr>\n    <tr>\n      <th>M1H</th>\n      <th>Scarborough</th>\n      <th>Cedarbrae</th>\n    </tr>\n  </tbody>\n</table>\n</div>", 
                        "text/plain": "Empty DataFrame\nColumns: []\nIndex: [(M1B, Scarborough, Malver), (M1B, Scarborough, Rouge), (M1C, Scarborough, Highland Creek), (M1C, Scarborough, Port Unio), (M1C, Scarborough, Rouge Hill), (M1E, Scarborough, Guildwood), (M1E, Scarborough, Morningside), (M1E, Scarborough, West Hill), (M1G, Scarborough, Wobur), (M1H, Scarborough, Cedarbrae)]"
                    }, 
                    "output_type": "execute_result"
                }
            ], 
            "source": "group_postcode=df_data.groupby(['Postcode','Borough','Neighbourhood']).count()\ngroup_postcode.head(10)\n\n#g1 = df1.groupby( [ \"Name\", \"City\"] ).count()"
        }, 
        {
            "execution_count": 46, 
            "cell_type": "code", 
            "metadata": {}, 
            "outputs": [
                {
                    "execution_count": 46, 
                    "metadata": {}, 
                    "data": {
                        "text/html": "<div>\n<style scoped>\n    .dataframe tbody tr th:only-of-type {\n        vertical-align: middle;\n    }\n\n    .dataframe tbody tr th {\n        vertical-align: top;\n    }\n\n    .dataframe thead th {\n        text-align: right;\n    }\n</style>\n<table border=\"1\" class=\"dataframe\">\n  <thead>\n    <tr style=\"text-align: right;\">\n      <th></th>\n      <th>Postcode</th>\n      <th>Borough</th>\n      <th>Neighbourhood</th>\n    </tr>\n  </thead>\n  <tbody>\n    <tr>\n      <th>0</th>\n      <td>M1B</td>\n      <td>Scarborough</td>\n      <td>Rouge,Malver</td>\n    </tr>\n    <tr>\n      <th>1</th>\n      <td>M1C</td>\n      <td>Scarborough</td>\n      <td>Highland Creek,Rouge Hill,Port Unio</td>\n    </tr>\n    <tr>\n      <th>2</th>\n      <td>M1E</td>\n      <td>Scarborough</td>\n      <td>Guildwood,Morningside,West Hill</td>\n    </tr>\n    <tr>\n      <th>3</th>\n      <td>M1G</td>\n      <td>Scarborough</td>\n      <td>Wobur</td>\n    </tr>\n    <tr>\n      <th>4</th>\n      <td>M1H</td>\n      <td>Scarborough</td>\n      <td>Cedarbrae</td>\n    </tr>\n    <tr>\n      <th>5</th>\n      <td>M1J</td>\n      <td>Scarborough</td>\n      <td>Scarborough Village</td>\n    </tr>\n    <tr>\n      <th>6</th>\n      <td>M1K</td>\n      <td>Scarborough</td>\n      <td>East Birchmount Park,Ionview,Kennedy Park</td>\n    </tr>\n    <tr>\n      <th>7</th>\n      <td>M1L</td>\n      <td>Scarborough</td>\n      <td>Clairlea,Golden Mile,Oakridge</td>\n    </tr>\n    <tr>\n      <th>8</th>\n      <td>M1M</td>\n      <td>Scarborough</td>\n      <td>Cliffcrest,Cliffside,Scarborough Village West</td>\n    </tr>\n    <tr>\n      <th>9</th>\n      <td>M1N</td>\n      <td>Scarborough</td>\n      <td>Birch Cliff,Cliffside West</td>\n    </tr>\n    <tr>\n      <th>10</th>\n      <td>M1P</td>\n      <td>Scarborough</td>\n      <td>Dorset Park,Scarborough Town Centre,Wexford He...</td>\n    </tr>\n    <tr>\n      <th>11</th>\n      <td>M1R</td>\n      <td>Scarborough</td>\n      <td>Maryvale,Wexford</td>\n    </tr>\n    <tr>\n      <th>12</th>\n      <td>M1S</td>\n      <td>Scarborough</td>\n      <td>Agincourt</td>\n    </tr>\n    <tr>\n      <th>13</th>\n      <td>M1T</td>\n      <td>Scarborough</td>\n      <td>Clarks Corners,Sulliva,Tam O'Shanter</td>\n    </tr>\n    <tr>\n      <th>14</th>\n      <td>M1V</td>\n      <td>Scarborough</td>\n      <td>Agincourt North,L'Amoreaux East,Millike,Steele...</td>\n    </tr>\n    <tr>\n      <th>15</th>\n      <td>M1W</td>\n      <td>Scarborough</td>\n      <td>L'Amoreaux West,Steeles West</td>\n    </tr>\n    <tr>\n      <th>16</th>\n      <td>M1X</td>\n      <td>Scarborough</td>\n      <td>Upper Rouge</td>\n    </tr>\n    <tr>\n      <th>17</th>\n      <td>M2H</td>\n      <td>North York</td>\n      <td>Hillcrest Village</td>\n    </tr>\n    <tr>\n      <th>18</th>\n      <td>M2J</td>\n      <td>North York</td>\n      <td>Fairview,Henry Farm,Oriole</td>\n    </tr>\n    <tr>\n      <th>19</th>\n      <td>M2K</td>\n      <td>North York</td>\n      <td>Bayview Village</td>\n    </tr>\n  </tbody>\n</table>\n</div>", 
                        "text/plain": "   Postcode      Borough                                      Neighbourhood\n0       M1B  Scarborough                                       Rouge,Malver\n1       M1C  Scarborough                Highland Creek,Rouge Hill,Port Unio\n2       M1E  Scarborough                    Guildwood,Morningside,West Hill\n3       M1G  Scarborough                                              Wobur\n4       M1H  Scarborough                                          Cedarbrae\n5       M1J  Scarborough                                Scarborough Village\n6       M1K  Scarborough          East Birchmount Park,Ionview,Kennedy Park\n7       M1L  Scarborough                      Clairlea,Golden Mile,Oakridge\n8       M1M  Scarborough      Cliffcrest,Cliffside,Scarborough Village West\n9       M1N  Scarborough                         Birch Cliff,Cliffside West\n10      M1P  Scarborough  Dorset Park,Scarborough Town Centre,Wexford He...\n11      M1R  Scarborough                                   Maryvale,Wexford\n12      M1S  Scarborough                                          Agincourt\n13      M1T  Scarborough               Clarks Corners,Sulliva,Tam O'Shanter\n14      M1V  Scarborough  Agincourt North,L'Amoreaux East,Millike,Steele...\n15      M1W  Scarborough                       L'Amoreaux West,Steeles West\n16      M1X  Scarborough                                        Upper Rouge\n17      M2H   North York                                  Hillcrest Village\n18      M2J   North York                         Fairview,Henry Farm,Oriole\n19      M2K   North York                                    Bayview Village"
                    }, 
                    "output_type": "execute_result"
                }
            ], 
            "source": "# combining the Neighbourd's that falls under same postal code\n\ndf_postaldata=df_data.groupby(['Postcode','Borough'],as_index=False).agg(lambda x : ','.join(x))\n\ndf_postaldata.head(20)\n\n#df_postaldata['Postcode'].unique()\n#print(df_postaldata.set_index(['Postcode']).index.is_unique)--checks if the col is unique -boolean value\n#df_postaldata['Postcode'].unique()-- unique value"
        }, 
        {
            "execution_count": 50, 
            "cell_type": "code", 
            "metadata": {}, 
            "outputs": [
                {
                    "output_type": "stream", 
                    "name": "stdout", 
                    "text": "Saving to csv\n"
                }
            ], 
            "source": "# Saving the data to CSV\ndf_postaldata.to_csv('toronto_postaldata.csv')\nprint(\"Saving to csv\")"
        }, 
        {
            "source": "### **Print the shape of the cleansed final dataframe**", 
            "cell_type": "markdown", 
            "metadata": {}
        }, 
        {
            "source": "", 
            "cell_type": "markdown", 
            "metadata": {}
        }, 
        {
            "execution_count": 51, 
            "cell_type": "code", 
            "metadata": {}, 
            "outputs": [
                {
                    "execution_count": 51, 
                    "metadata": {}, 
                    "data": {
                        "text/plain": "(103, 3)"
                    }, 
                    "output_type": "execute_result"
                }
            ], 
            "source": "df_postaldata.shape"
        }, 
        {
            "execution_count": null, 
            "cell_type": "code", 
            "metadata": {}, 
            "outputs": [], 
            "source": ""
        }
    ], 
    "metadata": {
        "kernelspec": {
            "display_name": "Python 3.5", 
            "name": "python3", 
            "language": "python"
        }, 
        "language_info": {
            "mimetype": "text/x-python", 
            "nbconvert_exporter": "python", 
            "version": "3.5.5", 
            "name": "python", 
            "file_extension": ".py", 
            "pygments_lexer": "ipython3", 
            "codemirror_mode": {
                "version": 3, 
                "name": "ipython"
            }
        }
    }, 
    "nbformat": 4
}